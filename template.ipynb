{
 "cells": [
  {
   "cell_type": "markdown",
   "metadata": {},
   "source": [
    "# Application Review"
   ]
  },
  {
   "cell_type": "markdown",
   "metadata": {},
   "source": [
    "### 225HP @ 2200"
   ]
  },
  {
   "cell_type": "code",
   "execution_count": null,
   "metadata": {},
   "outputs": [],
   "source": [
    "import pandas as pd\n",
    "from nptdms import tdms\n",
    "import matplotlib.pyplot as plt\n",
    "import dtdms\n",
    "import wpphist\n",
    "%matplotlib inline"
   ]
  },
  {
   "cell_type": "markdown",
   "metadata": {},
   "source": [
    "### Path to TDMS file:"
   ]
  },
  {
   "cell_type": "code",
   "execution_count": null,
   "metadata": {},
   "outputs": [],
   "source": [
    "tdmspath = \"./aof_seal_newguard_CAC.tdms\""
   ]
  },
  {
   "cell_type": "markdown",
   "metadata": {},
   "source": [
    "### Constants from Performance Curve"
   ]
  },
  {
   "cell_type": "code",
   "execution_count": null,
   "metadata": {},
   "outputs": [],
   "source": [
    "perf_curve_cac_min = 48  #degrees C\n",
    "perf_curve_cac_max = 56  #degrees C\n",
    "perf_curve_max_top_tank = 113 #degrees C\n",
    "\n",
    "perf_curve_min_water_pump_inlet_95C = 103 #kPa\n",
    "perf_curve_max_intake_restriction = -3.75 #kPa"
   ]
  },
  {
   "cell_type": "markdown",
   "metadata": {},
   "source": [
    "### Setup Data Structures and Perform Standard calculations"
   ]
  },
  {
   "cell_type": "code",
   "execution_count": null,
   "metadata": {},
   "outputs": [],
   "source": [
    "#create an instance of tdms data from the specified TDMS file\n",
    "tdms = dtdms.drivetdms(tdmspath)"
   ]
  },
  {
   "cell_type": "code",
   "execution_count": null,
   "metadata": {},
   "outputs": [],
   "source": [
    "#create base PANDAS data frame from subset of TDMS data in the dtdms class data_dict using pandas(dataframe from dict)\n",
    "#more CAN data is available and can be enabled by editing the dtdms class.  All Temp and Pressure data will be available.\n",
    "df = pd.DataFrame(tdms.data_dict)\n",
    "df.columns.values"
   ]
  },
  {
   "cell_type": "code",
   "execution_count": null,
   "metadata": {},
   "outputs": [],
   "source": [
    "#Add calculated columns to the base data frame\n",
    "#df = pd.DataFrame(mL, index=mL['Timestamp'])\n",
    "\n",
    "#Standard Calculations\n",
    "df['Ambient'] = (df.tT01_Ambient_Air_01 + df.tT02_Ambient_Air_02) / 2.0\n",
    "df['CorrectedCAC'] = 25 - df.Ambient + df.cCACOutTemp\n",
    "df['LAT'] = perf_curve_max_top_tank - df.cCoolantTemp + df.Ambient\n",
    "df['IntakeTempRise'] = df.tT03_Air_Intake - df.Ambient\n",
    "df['IntakeRestrictionAvailable'] = df.pP01_Intake_Air_Restriction - perf_curve_max_intake_restriction\n",
    "\n",
    "#Test Specific Calculations\n"
   ]
  },
  {
   "cell_type": "markdown",
   "metadata": {},
   "source": [
    "### Plot overall Run.  Look at index at bottom for more detailed plot in next cell."
   ]
  },
  {
   "cell_type": "code",
   "execution_count": null,
   "metadata": {},
   "outputs": [],
   "source": [
    "df.plot(figsize=(12,24), color=('r'), subplots=True );"
   ]
  },
  {
   "cell_type": "markdown",
   "metadata": {},
   "source": [
    "### Place the start and end timestamp of the test to be analyzed below\n",
    "\n",
    "Not all data in the data frame should go into the CAC and temp rise histograms.  Specify only the data where the engine has been warmed up and is running under a representative load for this subset of the data.  Full test runs can be obtained by referening the df data frame instead of this test_subset data frame"
   ]
  },
  {
   "cell_type": "code",
   "execution_count": null,
   "metadata": {},
   "outputs": [],
   "source": [
    "test_subset = df[800:1550]\n",
    "section_plot = test_subset.plot(figsize=(15,30), color = ('g'), subplots=True);"
   ]
  },
  {
   "cell_type": "markdown",
   "metadata": {},
   "source": [
    "# Histograms from the test_subset data"
   ]
  },
  {
   "cell_type": "code",
   "execution_count": null,
   "metadata": {
    "scrolled": false
   },
   "outputs": [],
   "source": [
    "wpphist.plot(data=test_subset['IntakeTempRise'].values, ylabel='Count', xlabel='Temperature (degC)', \n",
    "             title='Intake Temp Rise (degC) Histogram', color='green')"
   ]
  },
  {
   "cell_type": "code",
   "execution_count": null,
   "metadata": {},
   "outputs": [],
   "source": [
    "wpphist.plot(data=test_subset['IntakeRestrictionAvailable'].values, ylabel='Count', xlabel='Pressure (kPa)', \n",
    "             title='Intake Restriction Margin (kPa) Histogram', color='pink')"
   ]
  },
  {
   "cell_type": "code",
   "execution_count": null,
   "metadata": {},
   "outputs": [],
   "source": [
    "wpphist.plot(data=test_subset['CorrectedCAC'].values, ylabel='Count', xlabel='Temperature (degC)', \n",
    "             title='Corrected CAC (degC) Histogram', color='blue')"
   ]
  },
  {
   "cell_type": "code",
   "execution_count": null,
   "metadata": {},
   "outputs": [],
   "source": [
    "wpphist.plot(data=test_subset['LAT'].values, ylabel='Count', xlabel='Temperature (degC)', \n",
    "             title='Limiting Ambient Temperature (degC) Histogram', color='orange')"
   ]
  },
  {
   "cell_type": "code",
   "execution_count": null,
   "metadata": {
    "scrolled": true
   },
   "outputs": [],
   "source": [
    "#wpphist.plot(data=test_subset['ACTempRise'].values, ylabel='Count', xlabel='Temperature (degC)', \n",
    "#             title='Hydraulic Cooler Temp Rise (degC) Histogram', color='black')"
   ]
  },
  {
   "cell_type": "code",
   "execution_count": null,
   "metadata": {},
   "outputs": [],
   "source": [
    "#water_pump_df = test_subset[['pP04_Water_Pump_Inlet', 'cCoolantTemp']]\n",
    "#wp_df = (water_pump_df[water_pump_df['cCoolantTemp'] > 82]) #filter out low coolant temp values\n",
    "\n",
    "#wpphist.plot(data=wp_df['pP04_Water_Pump_Inlet'].values, ylabel='Count', xlabel='Pressure (kPa)', \n",
    "#             title='Water Pump Inlet Pressure (kPa) Histogram', color='yellow')\n",
    "#wpphist.plot(data=test_subset['pP04_Water_Pump_Inlet'].values, ylabel='Count', xlabel='Pressure (kPa)', \n",
    "#             title='Water Pump Inlet Pressure (kPa) Histogram', color='yellow')\n"
   ]
  }
 ],
 "metadata": {
  "kernelspec": {
   "display_name": "Python 3",
   "language": "python",
   "name": "python3"
  },
  "language_info": {
   "codemirror_mode": {
    "name": "ipython",
    "version": 3
   },
   "file_extension": ".py",
   "mimetype": "text/x-python",
   "name": "python",
   "nbconvert_exporter": "python",
   "pygments_lexer": "ipython3",
   "version": "3.6.5"
  }
 },
 "nbformat": 4,
 "nbformat_minor": 1
}
